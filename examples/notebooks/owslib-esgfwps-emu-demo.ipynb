{
 "cells": [
  {
   "cell_type": "markdown",
   "metadata": {},
   "source": [
    "# Example: OWSLib extension for ESGF compute API\n",
    "\n",
    "This notebook demonstrates a prototype of an [ESGF API](https://github.com/ESGF/esgf-compute-api) client implementation based on [OWSLib](https://github.com/geopython/OWSLib). On the server side, we are using [PyWPS](https://pywps.org/) running a mock ESGF compute process called `Emu.subset`. This subsetting process uses `xarray` to subset input NetCDF files.\n",
    "\n",
    "Please check the OWSLib code on GitHub for details:\n",
    "\n",
    "* Code: https://github.com/bird-house/OWSLib-esgfwps\n",
    "* Tests: https://github.com/bird-house/OWSLib-esgfwps/blob/master/tests/test_wps_emu.py\n",
    "* Notebook: https://github.com/bird-house/OWSLib-esgfwps/blob/pingudev/examples/notebooks/owslib-esgfwps-emu-demo.ipynb\n",
    "\n",
    "You can compare this with notebook examples of the original ESGF compute interface: \n",
    "\n",
    "* https://github.com/ESGF/esgf-compute-api\n",
    "* https://github.com/ESGF/esgf-compute-api/tree/master/examples"
   ]
  },
  {
   "cell_type": "markdown",
   "metadata": {},
   "source": [
    "<div class=\"alert alert-block alert-warning\">\n",
    "<b>Disclaimer:</b>  This prototype is incomplete. It's meant to show how we can leverage the OGC-related code base to meet ESGF requirements and avoid maintaining code by ourselves. That being said, all implementations need improvements and could use additional eye balls: OWSLib, OWSLib/esgfapi, PyWPS and ESGF-API itself. \n",
    "</div>"
   ]
  },
  {
   "cell_type": "markdown",
   "metadata": {},
   "source": [
    "We could also use PyWPS for WPS service definitions and build a seperate ESGF compute library for processing functionality. We can define an abstract PyWPS process class which can be used (subclassed) to define new ESGF-API processes.\n",
    "\n",
    "See: \n",
    "* https://github.com/ESGF/esgf-compute-wps\n",
    "* https://github.com/bird-house/emu/blob/esgfwps/emu/processes/wps_esgf_subset.py\n",
    "* https://pywps.org/\n",
    "* http://xarray.pydata.org/en/stable/dask.html\n",
    "\n",
    "\n",
    "### Defining an ESGF API Profile\n",
    "\n",
    "A common ESGF API WPS Profile could be defined using *Mixins* classes or *decorators*. \n",
    "See examples in notebook:\n",
    "\n",
    "https://github.com/cehbrecht/jupyterlab-notebooks/tree/master/pywps-profiles\n",
    "\n",
    "The `emu_subset` process is using a Python *decorator* `esgf_api`, see code:\n",
    "https://github.com/bird-house/emu/blob/esgfwps/emu/processes/wps_esgf_subset.py"
   ]
  },
  {
   "cell_type": "markdown",
   "metadata": {},
   "source": [
    "## WPS client OWSLib/esgfapi"
   ]
  },
  {
   "cell_type": "code",
   "execution_count": null,
   "metadata": {},
   "outputs": [],
   "source": [
    "from owslib.wps import WebProcessingService"
   ]
  },
  {
   "cell_type": "markdown",
   "metadata": {},
   "source": [
    "**ESGF Access Token**\n",
    "\n",
    "**TODO**: Use headers in WPS requests to transport an `api_key`. `api_key` can be handled either in pywps or security middleware like [Twitcher](https://twitcher.readthedocs.io/en/latest/)."
   ]
  },
  {
   "cell_type": "code",
   "execution_count": null,
   "metadata": {},
   "outputs": [],
   "source": [
    "# ESGF Access Token\n",
    "api_key = 'TOKEN'\n",
    "\n",
    "# use headers\n",
    "headers = {'api_key': api_key}"
   ]
  },
  {
   "cell_type": "markdown",
   "metadata": {},
   "source": [
    "### Get Capabilities\n",
    "\n",
    "Here we are using a [mock ESGF process](https://github.com/bird-house/emu/blob/esgfwps/emu/processes/wps_esgf_subset.py) from the `Emu` test server, due to certificate issues with the ESGF compute demo service. "
   ]
  },
  {
   "cell_type": "code",
   "execution_count": null,
   "metadata": {},
   "outputs": [],
   "source": [
    "# client = WebProcessingService('https://bovec.dkrz.de/ows/proxy/emu', headers=headers, verify=True)\n",
    "client = WebProcessingService('http://localhost:5000/wps', headers=headers, verify=True)"
   ]
  },
  {
   "cell_type": "code",
   "execution_count": null,
   "metadata": {},
   "outputs": [],
   "source": [
    "for p in client.processes:\n",
    "    print(p.identifier)"
   ]
  },
  {
   "cell_type": "markdown",
   "metadata": {},
   "source": [
    "### Describe Process"
   ]
  },
  {
   "cell_type": "code",
   "execution_count": null,
   "metadata": {},
   "outputs": [],
   "source": [
    "proc = client.describeprocess(\n",
    "    'emu_subset'  # 'CDAT.subset'\n",
    ")\n",
    "proc.identifier"
   ]
  },
  {
   "cell_type": "code",
   "execution_count": null,
   "metadata": {},
   "outputs": [],
   "source": [
    "for inpt in proc.dataInputs:\n",
    "    print(inpt.identifier, inpt.dataType)"
   ]
  },
  {
   "cell_type": "markdown",
   "metadata": {},
   "source": [
    "### WPS Process Inputs"
   ]
  },
  {
   "cell_type": "markdown",
   "metadata": {},
   "source": [
    "**Domain**\n",
    "\n",
    "**TODO**: can we use WPS boundingbox to describe domain? Are there other OGC concepts we can use?"
   ]
  },
  {
   "cell_type": "code",
   "execution_count": null,
   "metadata": {},
   "outputs": [],
   "source": [
    "from owslib_esgfwps import Domain, Dimension"
   ]
  },
  {
   "cell_type": "code",
   "execution_count": null,
   "metadata": {},
   "outputs": [],
   "source": [
    "d0 = Domain([\n",
    "    Dimension('time', 0, 1, crs='indices'),\n",
    "    Dimension('lat', 40, 60, crs='values'),\n",
    "    Dimension('lon', 0, 20, crs='values'),\n",
    "])"
   ]
  },
  {
   "cell_type": "code",
   "execution_count": null,
   "metadata": {},
   "outputs": [],
   "source": [
    "# show json\n",
    "print(d0.json)"
   ]
  },
  {
   "cell_type": "code",
   "execution_count": null,
   "metadata": {},
   "outputs": [],
   "source": [
    "# add domain to WPS inputs\n",
    "inputs = [('domain', d0)]"
   ]
  },
  {
   "cell_type": "markdown",
   "metadata": {},
   "source": [
    "**Variable**"
   ]
  },
  {
   "cell_type": "code",
   "execution_count": null,
   "metadata": {},
   "outputs": [],
   "source": [
    "from owslib_esgfwps import Variable"
   ]
  },
  {
   "cell_type": "markdown",
   "metadata": {},
   "source": [
    "**TODO**: Should we use the file transportation layer of PyWPS?"
   ]
  },
  {
   "cell_type": "code",
   "execution_count": null,
   "metadata": {},
   "outputs": [],
   "source": [
    "# data files we want to process\n",
    "files = [\n",
    "    # OpenDAP, CORDEX EUR-44, tasmax, climate index SU (summer days)\n",
    "    'http://opendap.knmi.nl/knmi/thredds/dodsC/CLIPC/gerics/climatesignalmaps/EUR-44/tasmax/su_python-2-7-6_GERICS_ens-multiModel-climatesignalmap-rcp85-EUR-44_yr_20700101-20991231_1971-2000.nc',\n",
    "]\n"
   ]
  },
  {
   "cell_type": "code",
   "execution_count": null,
   "metadata": {},
   "outputs": [],
   "source": [
    "# add them one by one to WPS inputs as Variable\n",
    "for x in files:\n",
    "    # variable=su (summer days climate index)\n",
    "    inputs.append(('variable', Variable(uri=x, var_name='su')))  "
   ]
  },
  {
   "cell_type": "code",
   "execution_count": null,
   "metadata": {},
   "outputs": [],
   "source": [
    "# show all WPS inputs\n",
    "for inp in inputs:\n",
    "    print(inp[1])"
   ]
  },
  {
   "cell_type": "markdown",
   "metadata": {},
   "source": [
    "### Execute"
   ]
  },
  {
   "cell_type": "code",
   "execution_count": null,
   "metadata": {},
   "outputs": [],
   "source": [
    "from owslib.wps import SYNC\n",
    "exec = client.execute(proc.identifier, inputs=inputs, mode=SYNC)"
   ]
  },
  {
   "cell_type": "code",
   "execution_count": null,
   "metadata": {},
   "outputs": [],
   "source": [
    "exec.isComplete()"
   ]
  },
  {
   "cell_type": "code",
   "execution_count": null,
   "metadata": {},
   "outputs": [],
   "source": [
    "exec.isSucceded()"
   ]
  },
  {
   "cell_type": "markdown",
   "metadata": {},
   "source": [
    "**Outputs**"
   ]
  },
  {
   "cell_type": "markdown",
   "metadata": {},
   "source": [
    "**TODO**: return multiple output files ... maybe using metalink.\n",
    "\n",
    "See: https://github.com/bird-house/emu/issues/64"
   ]
  },
  {
   "cell_type": "code",
   "execution_count": null,
   "metadata": {},
   "outputs": [],
   "source": [
    "# show the output ... well, in case of Emu WPS it is just a dummy.\n",
    "for output in exec.processOutputs:\n",
    "    print(output.identifier, output.reference)"
   ]
  },
  {
   "cell_type": "markdown",
   "metadata": {},
   "source": [
    "**Plot Preview**"
   ]
  },
  {
   "cell_type": "code",
   "execution_count": null,
   "metadata": {},
   "outputs": [],
   "source": [
    "from IPython.display import Image"
   ]
  },
  {
   "cell_type": "markdown",
   "metadata": {},
   "source": [
    "**TODO**: plot generation fails on bovec. It works with local emu."
   ]
  },
  {
   "cell_type": "code",
   "execution_count": null,
   "metadata": {},
   "outputs": [],
   "source": [
    "Image(exec.processOutputs[2].reference)"
   ]
  },
  {
   "cell_type": "code",
   "execution_count": null,
   "metadata": {},
   "outputs": [],
   "source": []
  }
 ],
 "metadata": {
  "kernelspec": {
   "display_name": "Python 3",
   "language": "python",
   "name": "python3"
  },
  "language_info": {
   "codemirror_mode": {
    "name": "ipython",
    "version": 3
   },
   "file_extension": ".py",
   "mimetype": "text/x-python",
   "name": "python",
   "nbconvert_exporter": "python",
   "pygments_lexer": "ipython3",
   "version": "3.7.2"
  }
 },
 "nbformat": 4,
 "nbformat_minor": 2
}
