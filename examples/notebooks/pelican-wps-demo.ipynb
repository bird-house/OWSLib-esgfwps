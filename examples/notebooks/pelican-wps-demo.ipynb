{
 "cells": [
  {
   "cell_type": "markdown",
   "metadata": {},
   "source": [
    "# Example: OWSLib extension for ESGF compute API\n",
    "\n",
    "This notebook demonstrates a prototype of an [ESGF API](https://github.com/ESGF/esgf-compute-api) client implementation based on [OWSLib](https://github.com/geopython/OWSLib). On the server side, we are using [PyWPS](https://pywps.org/) running a mock ESGF compute process called `pelican_subset`. This subsetting process uses `xarray` to subset input NetCDF files.\n",
    "\n",
    "Please read the [OWSLib-esgfwps](https://owslib-esgfwps.readthedocs.io/en/latest/) documentation\n",
    "\n",
    "See also the notebook examples:\n",
    "\n",
    "https://nbviewer.jupyter.org/github/bird-house/OWSLib-esgfwps/tree/master/examples/notebooks/\n",
    "\n",
    "You can compare this with notebook examples of the original ESGF compute interface: \n",
    "\n",
    "* https://github.com/ESGF/esgf-compute-api\n",
    "* https://nbviewer.jupyter.org/github/ESGF/esgf-compute-api/tree/master/examples/\n"
   ]
  },
  {
   "cell_type": "markdown",
   "metadata": {},
   "source": [
    "<div class=\"alert alert-block alert-warning\">\n",
    "<b>Disclaimer:</b>  This prototype is incomplete. It's meant to show how we can leverage the OGC-related code base to meet ESGF requirements and avoid maintaining code by ourselves. That being said, all implementations need improvements and could use additional eye balls: OWSLib, OWSLib-esgfwps, PyWPS and ESGF-API itself. \n",
    "</div>"
   ]
  },
  {
   "cell_type": "markdown",
   "metadata": {},
   "source": [
    "We could also use PyWPS for WPS service definitions and build a seperate ESGF compute library for processing functionality. We can define an abstract PyWPS process class which can be used (subclassed) to define new ESGF-API processes.\n",
    "\n",
    "See: \n",
    "* https://github.com/ESGF/esgf-compute-wps\n",
    "* https://github.com/bird-house/pelican/blob/master/pelican/processes/wps_esgf_subset.py\n",
    "* https://pywps.org/\n",
    "* http://xarray.pydata.org/en/stable/dask.html\n",
    "\n",
    "\n",
    "### Defining an ESGF API Profile\n",
    "\n",
    "A common ESGF API WPS Profile could be defined using *Mixins* classes or *decorators*. \n",
    "See examples in notebook:\n",
    "\n",
    "https://github.com/cehbrecht/jupyterlab-notebooks/tree/master/pywps-profiles\n",
    "\n",
    "The `pelican_subset` process is using a Python *decorator* `esgf_api`, see code:\n",
    "https://github.com/bird-house/pelican/blob/master/pelican/processes/wps_esgf_subset.py\n"
   ]
  },
  {
   "cell_type": "markdown",
   "metadata": {},
   "source": [
    "## WPS client OWSLib/esgfapi"
   ]
  },
  {
   "cell_type": "code",
   "execution_count": null,
   "metadata": {},
   "outputs": [],
   "source": [
    "from owslib.wps import WebProcessingService"
   ]
  },
  {
   "cell_type": "markdown",
   "metadata": {},
   "source": [
    "**ESGF Access Token**\n",
    "\n",
    "**TODO**: Use OAuth2 access tokens. This can be handled by a security middleware like [Twitcher](https://twitcher.readthedocs.io/en/latest/)."
   ]
  },
  {
   "cell_type": "code",
   "execution_count": null,
   "metadata": {},
   "outputs": [],
   "source": [
    "# Get OAuth2 Access Token using client_id/client_secret\n",
    "import requests\n",
    "import urllib3\n",
    "urllib3.disable_warnings()\n",
    "url = \"https://cp4cds-cn2.dkrz.de/oauth/token?grant_type=client_credentials&client_id={}&client_secret={}\".format(\n",
    "    'a1bba369139442d3858f62a41f4a8450', '9821aec9c4104ae0b8c0e8a6d6721589')\n",
    "token = requests.get(url, verify=False).json()\n",
    "token"
   ]
  },
  {
   "cell_type": "code",
   "execution_count": null,
   "metadata": {},
   "outputs": [],
   "source": [
    "# use headers for OAuth bearer token\n",
    "headers = {'Authorization': 'Bearer {}'.format(token['access_token'])}"
   ]
  },
  {
   "cell_type": "markdown",
   "metadata": {},
   "source": [
    "### Get Capabilities\n",
    "\n",
    "Here we are using a [mock ESGF process](https://github.com/bird-house/pelican/blob/master/pelican/processes/wps_esgf_subset.py) from the `Pelican` test server."
   ]
  },
  {
   "cell_type": "code",
   "execution_count": null,
   "metadata": {},
   "outputs": [],
   "source": [
    "client = WebProcessingService('https://cp4cds-cn2.dkrz.de/ows/proxy/pelican', headers=headers, verify=False)\n",
    "# client = WebProcessingService('https://bovec.dkrz.de/ows/proxy/pelican', headers=headers, verify=True)\n",
    "# client = WebProcessingService('http://localhost:5000/wps', headers=headers, verify=True)"
   ]
  },
  {
   "cell_type": "code",
   "execution_count": null,
   "metadata": {},
   "outputs": [],
   "source": [
    "for p in client.processes:\n",
    "    print(p.identifier)"
   ]
  },
  {
   "cell_type": "markdown",
   "metadata": {},
   "source": [
    "### Describe Process"
   ]
  },
  {
   "cell_type": "code",
   "execution_count": null,
   "metadata": {},
   "outputs": [],
   "source": [
    "proc = client.describeprocess(\n",
    "    'pelican_subset'\n",
    ")\n",
    "proc.identifier"
   ]
  },
  {
   "cell_type": "code",
   "execution_count": null,
   "metadata": {},
   "outputs": [],
   "source": [
    "for inpt in proc.dataInputs:\n",
    "    print(inpt.identifier, inpt.dataType)"
   ]
  },
  {
   "cell_type": "markdown",
   "metadata": {},
   "source": [
    "### WPS Process Inputs"
   ]
  },
  {
   "cell_type": "markdown",
   "metadata": {},
   "source": [
    "**Domain**\n",
    "\n",
    "**TODO**: can we use WPS boundingbox to describe domain? Are there other OGC concepts we can use?"
   ]
  },
  {
   "cell_type": "code",
   "execution_count": null,
   "metadata": {},
   "outputs": [],
   "source": [
    "from owslib_esgfwps import Domain, Dimension"
   ]
  },
  {
   "cell_type": "code",
   "execution_count": null,
   "metadata": {},
   "outputs": [],
   "source": [
    "d0 = Domain(dict(\n",
    "    time=Dimension(0, 1, crs='indices'),\n",
    "    lat=Dimension(40, 60, crs='values'),\n",
    "    lon=Dimension(0, 20, crs='values'),\n",
    "))"
   ]
  },
  {
   "cell_type": "code",
   "execution_count": null,
   "metadata": {},
   "outputs": [],
   "source": [
    "# show json\n",
    "print(d0.json)"
   ]
  },
  {
   "cell_type": "code",
   "execution_count": null,
   "metadata": {},
   "outputs": [],
   "source": [
    "# add domain to WPS inputs\n",
    "from owslib_esgfwps import Domains\n",
    "inputs = [('domain', Domains([d0]))]"
   ]
  },
  {
   "cell_type": "markdown",
   "metadata": {},
   "source": [
    "**TODO**: Why using `Domains` and `Variables` (note the *s*)? The WPS protocol already handles the multiplicity of parameters."
   ]
  },
  {
   "cell_type": "markdown",
   "metadata": {},
   "source": [
    "**Variable**"
   ]
  },
  {
   "cell_type": "code",
   "execution_count": null,
   "metadata": {},
   "outputs": [],
   "source": [
    "from owslib_esgfwps import Variable"
   ]
  },
  {
   "cell_type": "markdown",
   "metadata": {},
   "source": [
    "**TODO**: Should we use the file transportation layer of PyWPS?"
   ]
  },
  {
   "cell_type": "code",
   "execution_count": null,
   "metadata": {},
   "outputs": [],
   "source": [
    "# data files we want to process\n",
    "files = [\n",
    "    # OpenDAP, CORDEX EUR-44, tasmax, climate index SU (summer days)\n",
    "    'http://opendap.knmi.nl/knmi/thredds/dodsC/CLIPC/gerics/climatesignalmaps/EUR-44/tasmax/su_python-2-7-6_GERICS_ens-multiModel-climatesignalmap-rcp85-EUR-44_yr_20700101-20991231_1971-2000.nc',\n",
    "]\n"
   ]
  },
  {
   "cell_type": "code",
   "execution_count": null,
   "metadata": {},
   "outputs": [],
   "source": [
    "from owslib_esgfwps import Variables\n",
    "\n",
    "# add them one by one to WPS inputs as Variable\n",
    "# variable=su (summer days climate index)\n",
    "su = Variable(uri=files[0], var_name='su')\n",
    "inputs.append(('variable', Variables([su])))  "
   ]
  },
  {
   "cell_type": "code",
   "execution_count": null,
   "metadata": {},
   "outputs": [],
   "source": [
    "# show all WPS inputs\n",
    "for inp in inputs:\n",
    "    print(inp[1])"
   ]
  },
  {
   "cell_type": "markdown",
   "metadata": {},
   "source": [
    "### Execute"
   ]
  },
  {
   "cell_type": "code",
   "execution_count": null,
   "metadata": {},
   "outputs": [],
   "source": [
    "from owslib.wps import SYNC\n",
    "exec = client.execute(proc.identifier, inputs=inputs, mode=SYNC)"
   ]
  },
  {
   "cell_type": "code",
   "execution_count": null,
   "metadata": {},
   "outputs": [],
   "source": [
    "exec.isComplete()"
   ]
  },
  {
   "cell_type": "code",
   "execution_count": null,
   "metadata": {},
   "outputs": [],
   "source": [
    "exec.isSucceded()"
   ]
  },
  {
   "cell_type": "markdown",
   "metadata": {},
   "source": [
    "**Outputs**"
   ]
  },
  {
   "cell_type": "markdown",
   "metadata": {},
   "source": [
    "**TODO**: return multiple output files ... maybe using metalink.\n",
    "\n",
    "See: https://github.com/bird-house/emu/issues/64"
   ]
  },
  {
   "cell_type": "code",
   "execution_count": null,
   "metadata": {},
   "outputs": [],
   "source": [
    "# show the output ... \n",
    "for output in exec.processOutputs:\n",
    "    print(output.identifier, output.reference or output.data)"
   ]
  },
  {
   "cell_type": "markdown",
   "metadata": {},
   "source": [
    "**Plot Preview**"
   ]
  },
  {
   "cell_type": "code",
   "execution_count": null,
   "metadata": {},
   "outputs": [],
   "source": [
    "print(exec.processOutputs[1].reference)"
   ]
  },
  {
   "cell_type": "markdown",
   "metadata": {},
   "source": [
    "### Use Output parameter\n",
    "\n",
    "**TODO**: PyWPS supports [MetaLink](https://pywps.readthedocs.io/en/latest/process.html#returning-multiple-files) to return multiple files. We can also add support for other output formats (like a simple json document). We need to discuss this and make sure it is standard-compliant."
   ]
  },
  {
   "cell_type": "code",
   "execution_count": null,
   "metadata": {},
   "outputs": [],
   "source": [
    "from owslib_esgfwps import Outputs\n",
    "outputs = Outputs.from_owslib(exec.processOutputs)"
   ]
  },
  {
   "cell_type": "code",
   "execution_count": null,
   "metadata": {},
   "outputs": [],
   "source": [
    "outputs.outputs[0].uri"
   ]
  }
 ],
 "metadata": {
  "kernelspec": {
   "display_name": "Python 3",
   "language": "python",
   "name": "python3"
  },
  "language_info": {
   "codemirror_mode": {
    "name": "ipython",
    "version": 3
   },
   "file_extension": ".py",
   "mimetype": "text/x-python",
   "name": "python",
   "nbconvert_exporter": "python",
   "pygments_lexer": "ipython3",
   "version": "3.7.3"
  }
 },
 "nbformat": 4,
 "nbformat_minor": 4
}
